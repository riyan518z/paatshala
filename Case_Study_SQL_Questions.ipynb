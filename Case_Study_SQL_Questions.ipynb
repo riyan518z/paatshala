{
  "nbformat": 4,
  "nbformat_minor": 0,
  "metadata": {
    "colab": {
      "provenance": [],
      "include_colab_link": true
    },
    "kernelspec": {
      "name": "python3",
      "display_name": "Python 3"
    },
    "language_info": {
      "name": "python"
    }
  },
  "cells": [
    {
      "cell_type": "markdown",
      "metadata": {
        "id": "view-in-github",
        "colab_type": "text"
      },
      "source": [
        "<a href=\"https://colab.research.google.com/github/riyan518z/paatshala/blob/main/Case_Study_SQL_Questions.ipynb\" target=\"_parent\"><img src=\"https://colab.research.google.com/assets/colab-badge.svg\" alt=\"Open In Colab\"/></a>"
      ]
    },
    {
      "cell_type": "markdown",
      "source": [
        "# Case Study on SQL\n"
      ],
      "metadata": {
        "id": "WEiBwlhgYtYx"
      }
    },
    {
      "cell_type": "code",
      "source": [
        "import sqlite3\n",
        "import pandas as pd"
      ],
      "metadata": {
        "id": "Q6xrAf0CgwyW"
      },
      "execution_count": 1,
      "outputs": []
    },
    {
      "cell_type": "code",
      "source": [
        "def load_imdb_database(db_path):\n",
        "  try:\n",
        "    conn = sqlite3.connect(db_path)\n",
        "    print(\"IMDB database loaded successfully.\")\n",
        "    return conn\n",
        "  except sqlite3.Error as e:\n",
        "    print(f\"Error loading IMDB database: {e}\")\n",
        "    return None"
      ],
      "metadata": {
        "id": "YOO65TNTg7fg"
      },
      "execution_count": 2,
      "outputs": []
    },
    {
      "cell_type": "code",
      "execution_count": 3,
      "metadata": {
        "colab": {
          "base_uri": "https://localhost:8080/"
        },
        "id": "-0Th69XEghxi",
        "outputId": "e6f4c26c-4457-420b-d875-8c55a64e887d"
      },
      "outputs": [
        {
          "output_type": "stream",
          "name": "stdout",
          "text": [
            "IMDB database loaded successfully.\n",
            "Connection successful\n"
          ]
        }
      ],
      "source": [
        "db_path = \"imdb.db\"\n",
        "conn = load_imdb_database(db_path)\n",
        "\n",
        "if conn:\n",
        "  print(\"Connection successful\")\n",
        "  cursor = conn.cursor()"
      ]
    },
    {
      "cell_type": "markdown",
      "source": [
        "## Following is the schema of the IMDB database. It lists all tables and their schemas.\n",
        "\n"
      ],
      "metadata": {
        "id": "OyMdDsyWakEL"
      }
    },
    {
      "cell_type": "code",
      "source": [
        "cursor.execute(\"SELECT name FROM sqlite_master WHERE type='table';\")\n",
        "tables = cursor.fetchall()\n",
        "\n",
        "print(\"Database Schema:\")\n",
        "for table in tables:\n",
        "    table_name = table[0]\n",
        "    print(f\"\\nTable: {table_name}\")\n",
        "\n",
        "    cursor.execute(f\"PRAGMA table_info({table_name});\")\n",
        "    schema = cursor.fetchall()\n",
        "\n",
        "    print(\"Columns:\")\n",
        "    for column in schema:\n",
        "        cid, name, dtype, notnull, dflt_value, pk = column\n",
        "        print(f\"  - {name} ({dtype}), NOT NULL: {bool(notnull)}, Default: {dflt_value}, Primary Key: {bool(pk)}\")"
      ],
      "metadata": {
        "colab": {
          "base_uri": "https://localhost:8080/"
        },
        "id": "QHglU6mobmV3",
        "outputId": "30fd59c6-6bf6-43e9-e142-71663e204848"
      },
      "execution_count": 11,
      "outputs": [
        {
          "output_type": "stream",
          "name": "stdout",
          "text": [
            "Database Schema:\n",
            "\n",
            "Table: Movie\n",
            "Columns:\n",
            "  - index (INTEGER), NOT NULL: False, Default: None, Primary Key: False\n",
            "  - MID (TEXT), NOT NULL: False, Default: None, Primary Key: False\n",
            "  - title (TEXT), NOT NULL: False, Default: None, Primary Key: False\n",
            "  - year (TEXT), NOT NULL: False, Default: None, Primary Key: False\n",
            "  - rating (REAL), NOT NULL: False, Default: None, Primary Key: False\n",
            "  - num_votes (INTEGER), NOT NULL: False, Default: None, Primary Key: False\n",
            "\n",
            "Table: Genre\n",
            "Columns:\n",
            "  - index (INTEGER), NOT NULL: False, Default: None, Primary Key: False\n",
            "  - Name (TEXT), NOT NULL: False, Default: None, Primary Key: False\n",
            "  - GID (INTEGER), NOT NULL: False, Default: None, Primary Key: False\n",
            "\n",
            "Table: Language\n",
            "Columns:\n",
            "  - index (INTEGER), NOT NULL: False, Default: None, Primary Key: False\n",
            "  - Name (TEXT), NOT NULL: False, Default: None, Primary Key: False\n",
            "  - LAID (INTEGER), NOT NULL: False, Default: None, Primary Key: False\n",
            "\n",
            "Table: Country\n",
            "Columns:\n",
            "  - index (INTEGER), NOT NULL: False, Default: None, Primary Key: False\n",
            "  - Name (TEXT), NOT NULL: False, Default: None, Primary Key: False\n",
            "  - CID (INTEGER), NOT NULL: False, Default: None, Primary Key: False\n",
            "\n",
            "Table: Location\n",
            "Columns:\n",
            "  - index (INTEGER), NOT NULL: False, Default: None, Primary Key: False\n",
            "  - Name (TEXT), NOT NULL: False, Default: None, Primary Key: False\n",
            "  - LID (INTEGER), NOT NULL: False, Default: None, Primary Key: False\n",
            "\n",
            "Table: M_Location\n",
            "Columns:\n",
            "  - index (INTEGER), NOT NULL: False, Default: None, Primary Key: False\n",
            "  - MID (TEXT), NOT NULL: False, Default: None, Primary Key: False\n",
            "  - LID (REAL), NOT NULL: False, Default: None, Primary Key: False\n",
            "  - ID (INTEGER), NOT NULL: False, Default: None, Primary Key: False\n",
            "\n",
            "Table: M_Country\n",
            "Columns:\n",
            "  - index (INTEGER), NOT NULL: False, Default: None, Primary Key: False\n",
            "  - MID (TEXT), NOT NULL: False, Default: None, Primary Key: False\n",
            "  - CID (REAL), NOT NULL: False, Default: None, Primary Key: False\n",
            "  - ID (INTEGER), NOT NULL: False, Default: None, Primary Key: False\n",
            "\n",
            "Table: M_Language\n",
            "Columns:\n",
            "  - index (INTEGER), NOT NULL: False, Default: None, Primary Key: False\n",
            "  - MID (TEXT), NOT NULL: False, Default: None, Primary Key: False\n",
            "  - LAID (INTEGER), NOT NULL: False, Default: None, Primary Key: False\n",
            "  - ID (INTEGER), NOT NULL: False, Default: None, Primary Key: False\n",
            "\n",
            "Table: M_Genre\n",
            "Columns:\n",
            "  - index (INTEGER), NOT NULL: False, Default: None, Primary Key: False\n",
            "  - MID (TEXT), NOT NULL: False, Default: None, Primary Key: False\n",
            "  - GID (INTEGER), NOT NULL: False, Default: None, Primary Key: False\n",
            "  - ID (INTEGER), NOT NULL: False, Default: None, Primary Key: False\n",
            "\n",
            "Table: Person\n",
            "Columns:\n",
            "  - index (INTEGER), NOT NULL: False, Default: None, Primary Key: False\n",
            "  - PID (TEXT), NOT NULL: False, Default: None, Primary Key: False\n",
            "  - Name (TEXT), NOT NULL: False, Default: None, Primary Key: False\n",
            "  - Gender (TEXT), NOT NULL: False, Default: None, Primary Key: False\n",
            "\n",
            "Table: M_Producer\n",
            "Columns:\n",
            "  - index (INTEGER), NOT NULL: False, Default: None, Primary Key: False\n",
            "  - MID (TEXT), NOT NULL: False, Default: None, Primary Key: False\n",
            "  - PID (TEXT), NOT NULL: False, Default: None, Primary Key: False\n",
            "  - ID (INTEGER), NOT NULL: False, Default: None, Primary Key: False\n",
            "\n",
            "Table: M_Director\n",
            "Columns:\n",
            "  - index (INTEGER), NOT NULL: False, Default: None, Primary Key: False\n",
            "  - MID (TEXT), NOT NULL: False, Default: None, Primary Key: False\n",
            "  - PID (TEXT), NOT NULL: False, Default: None, Primary Key: False\n",
            "  - ID (INTEGER), NOT NULL: False, Default: None, Primary Key: False\n",
            "\n",
            "Table: M_Cast\n",
            "Columns:\n",
            "  - index (INTEGER), NOT NULL: False, Default: None, Primary Key: False\n",
            "  - MID (TEXT), NOT NULL: False, Default: None, Primary Key: False\n",
            "  - PID (TEXT), NOT NULL: False, Default: None, Primary Key: False\n",
            "  - ID (INTEGER), NOT NULL: False, Default: None, Primary Key: False\n"
          ]
        }
      ]
    },
    {
      "cell_type": "markdown",
      "source": [
        "# Write SQL queries for the following questions"
      ],
      "metadata": {
        "id": "At0HJhxwcWMV"
      }
    },
    {
      "cell_type": "markdown",
      "source": [
        "## 1. Write query to list first 5 rows of Person table\n",
        "\n",
        "\n",
        "\n"
      ],
      "metadata": {
        "id": "cHeY-4I-Y1Go"
      }
    },
    {
      "cell_type": "code",
      "source": [
        "q1 = \"\"\"select * from Person limit(5)\"\"\""
      ],
      "metadata": {
        "id": "yTksEs_JHuK8"
      },
      "execution_count": null,
      "outputs": []
    },
    {
      "cell_type": "code",
      "source": [
        "def q1_grader(q1):\n",
        "  result = pd.read_sql_query(q1, conn)\n",
        "  return result.shape == (5, 4)\n",
        "print(q1_grader(q1))"
      ],
      "metadata": {
        "colab": {
          "base_uri": "https://localhost:8080/"
        },
        "id": "19rLGemCcoak",
        "outputId": "7facc3f7-9657-48f1-e7f7-d4d7efe95239"
      },
      "execution_count": null,
      "outputs": [
        {
          "output_type": "stream",
          "name": "stdout",
          "text": [
            "True\n"
          ]
        }
      ]
    },
    {
      "cell_type": "markdown",
      "source": [
        "## 2. Write query to select title, year and rating from Movie table"
      ],
      "metadata": {
        "id": "Cmuvp9h7dZWu"
      }
    },
    {
      "cell_type": "code",
      "source": [
        "q2 = \"\"\"select title ,year , rating from Movie\"\"\""
      ],
      "metadata": {
        "id": "g7MI-hJycPtn"
      },
      "execution_count": null,
      "outputs": []
    },
    {
      "cell_type": "code",
      "source": [
        "def q2_grader(q2):\n",
        "  result = pd.read_sql_query(q2, conn)\n",
        "  return result.shape == (3473, 3) and result['title'][0]=='Mowgli'\n",
        "print(q2_grader(q2))"
      ],
      "metadata": {
        "colab": {
          "base_uri": "https://localhost:8080/"
        },
        "id": "gyk9b2uvd5O6",
        "outputId": "eb0ba1d9-1d6f-4af2-8024-5bee304a6303"
      },
      "execution_count": null,
      "outputs": [
        {
          "output_type": "stream",
          "name": "stdout",
          "text": [
            "True\n"
          ]
        }
      ]
    },
    {
      "cell_type": "markdown",
      "source": [
        "## 3. Write query to get title of first movie in movie table sorted by year in ascending order\n"
      ],
      "metadata": {
        "id": "EvD979LNeaFm"
      }
    },
    {
      "cell_type": "code",
      "source": [
        "q3 = \"\"\"select title from Movie order by  year asc limit 1\"\"\""
      ],
      "metadata": {
        "id": "noFVuK27eczz"
      },
      "execution_count": null,
      "outputs": []
    },
    {
      "cell_type": "code",
      "source": [
        "def q3_grader(q3):\n",
        "  result = pd.read_sql_query(q3, conn)\n",
        "  return result['title']=='Alam Ara'\n",
        "print(q3_grader(q3))"
      ],
      "metadata": {
        "colab": {
          "base_uri": "https://localhost:8080/"
        },
        "id": "jpGuMnkveeU5",
        "outputId": "9b14ab73-fe65-4eab-f3ee-7845f6052e14"
      },
      "execution_count": null,
      "outputs": [
        {
          "output_type": "stream",
          "name": "stdout",
          "text": [
            "0    True\n",
            "Name: title, dtype: bool\n"
          ]
        }
      ]
    },
    {
      "cell_type": "markdown",
      "source": [
        "## 4. Write query to get the very first year in which Devdas movie was released"
      ],
      "metadata": {
        "id": "ZQVPvM8qgl3k"
      }
    },
    {
      "cell_type": "code",
      "source": [
        "q4 = \"\"\"select min(year) as year from Movie where title == 'Devdas'\"\"\""
      ],
      "metadata": {
        "id": "DbvKV1XXgmd9"
      },
      "execution_count": null,
      "outputs": []
    },
    {
      "cell_type": "code",
      "source": [
        "def q4_grader(q4):\n",
        "  result = pd.read_sql_query(q4, conn)\n",
        "  return result['year']=='1936'\n",
        "print(q4_grader(q4))"
      ],
      "metadata": {
        "colab": {
          "base_uri": "https://localhost:8080/"
        },
        "id": "SJWlc4gCg6Gn",
        "outputId": "0230c1c4-2db0-4fbf-9f34-08afa0bff08e"
      },
      "execution_count": null,
      "outputs": [
        {
          "output_type": "stream",
          "name": "stdout",
          "text": [
            "0    True\n",
            "Name: year, dtype: bool\n"
          ]
        }
      ]
    },
    {
      "cell_type": "markdown",
      "source": [
        "## 5. Write query to get the number of movies released in 2018"
      ],
      "metadata": {
        "id": "sLHeXz_siuSW"
      }
    },
    {
      "cell_type": "code",
      "source": [
        "q5 = \"\"\" select count(title) from Movie where year = 2018\"\"\""
      ],
      "metadata": {
        "id": "fErMDcrFiuzw"
      },
      "execution_count": null,
      "outputs": []
    },
    {
      "cell_type": "code",
      "source": [
        "def q5_grader(q5):\n",
        "  result = pd.read_sql_query(q5, conn)\n",
        "  return result.iloc[0, 0] == 93\n",
        "print(q5_grader(q5))"
      ],
      "metadata": {
        "colab": {
          "base_uri": "https://localhost:8080/"
        },
        "id": "mV2gadLKi6ow",
        "outputId": "27786178-3588-4a95-eb0d-7be43eafee09"
      },
      "execution_count": null,
      "outputs": [
        {
          "output_type": "stream",
          "name": "stdout",
          "text": [
            "True\n"
          ]
        }
      ]
    },
    {
      "cell_type": "markdown",
      "source": [
        "## 6. Write query to get the title of the movie with most number of votes in 2012"
      ],
      "metadata": {
        "id": "95Y3MGgsndph"
      }
    },
    {
      "cell_type": "code",
      "source": [
        "q6 = \"\"\"select title from Movie where year = 2012 order by num_votes desc limit 1\"\"\""
      ],
      "metadata": {
        "id": "SK-BCCy2j2tz"
      },
      "execution_count": null,
      "outputs": []
    },
    {
      "cell_type": "code",
      "source": [
        "def q6_grader(q6):\n",
        "  result = pd.read_sql_query(q6, conn)\n",
        "  return result[\"title\"]==\"The Avengers\"\n",
        "print(q6_grader(q6))"
      ],
      "metadata": {
        "colab": {
          "base_uri": "https://localhost:8080/"
        },
        "id": "1s8NPuftj6kO",
        "outputId": "2256fcb1-1638-4f7e-9821-8ac6b59e5d2e"
      },
      "execution_count": null,
      "outputs": [
        {
          "output_type": "stream",
          "name": "stdout",
          "text": [
            "0    True\n",
            "Name: title, dtype: bool\n"
          ]
        }
      ]
    },
    {
      "cell_type": "markdown",
      "source": [
        "## 7. Write SQL query to find all the unique movie titles released in 2018"
      ],
      "metadata": {
        "id": "anmreTN2zRzL"
      }
    },
    {
      "cell_type": "code",
      "source": [
        "q7 = \"\"\"select distinct title from Movie where year = 2018\"\"\""
      ],
      "metadata": {
        "id": "T3gG0QsPzSQz"
      },
      "execution_count": null,
      "outputs": []
    },
    {
      "cell_type": "code",
      "source": [
        "def q7_grader(q7):\n",
        "  result = pd.read_sql_query(q7, conn)\n",
        "  return result.shape==(93, 1)\n",
        "print(q7_grader(q7))"
      ],
      "metadata": {
        "colab": {
          "base_uri": "https://localhost:8080/"
        },
        "id": "ndp9snvBz0U5",
        "outputId": "2ea5ff05-8874-458c-dde2-867bdc307168"
      },
      "execution_count": null,
      "outputs": [
        {
          "output_type": "stream",
          "name": "stdout",
          "text": [
            "True\n"
          ]
        }
      ]
    },
    {
      "cell_type": "markdown",
      "source": [
        "## 8. Write SQL query to get total number of movies released between 2017 (inclusive) and 2018 (inclusive)"
      ],
      "metadata": {
        "id": "TZEjK38M1Q8q"
      }
    },
    {
      "cell_type": "code",
      "source": [
        "q8 = \"\"\"select Count(*) as total from Movie where year between 2017 and 2018\"\"\""
      ],
      "metadata": {
        "id": "vXz5lPZ80j3-"
      },
      "execution_count": null,
      "outputs": []
    },
    {
      "cell_type": "code",
      "source": [
        "def q8_grader(q8):\n",
        "  result = pd.read_sql_query(q8, conn)\n",
        "  return result.iloc[0, 0] == 211\n",
        "print(q8_grader(q8))"
      ],
      "metadata": {
        "colab": {
          "base_uri": "https://localhost:8080/"
        },
        "id": "p9wXgEae02ZV",
        "outputId": "8e207f2c-fea9-4348-ac9c-7773f4d40c16"
      },
      "execution_count": null,
      "outputs": [
        {
          "output_type": "stream",
          "name": "stdout",
          "text": [
            "True\n"
          ]
        }
      ]
    },
    {
      "cell_type": "markdown",
      "source": [
        "## 9. Write SQL query to find the year in which maximum number of movies released"
      ],
      "metadata": {
        "id": "L7WKxoUU3Ai6"
      }
    },
    {
      "cell_type": "code",
      "source": [
        "q9 = \"\"\"SELECT year FROM Movie GROUP BY year ORDER BY COUNT(*) DESC LIMIT 1\"\"\""
      ],
      "metadata": {
        "id": "fktY0SbY1qSA"
      },
      "execution_count": 12,
      "outputs": []
    },
    {
      "cell_type": "code",
      "source": [
        "def q9_grader(q9):\n",
        "  result = pd.read_sql_query(q9, conn)\n",
        "  return result[\"year\"][0]==\"2005\"\n",
        "print(q9_grader(q9))"
      ],
      "metadata": {
        "id": "yiYfQr1R13As",
        "colab": {
          "base_uri": "https://localhost:8080/"
        },
        "outputId": "76ab16aa-9384-4a0b-e4cd-73c55e28e493"
      },
      "execution_count": 13,
      "outputs": [
        {
          "output_type": "stream",
          "name": "stdout",
          "text": [
            "True\n"
          ]
        }
      ]
    },
    {
      "cell_type": "markdown",
      "source": [
        "## 10. Write SQL query to find the title of the movie with rating>9.5 and number of votes > 90"
      ],
      "metadata": {
        "id": "dP2eLdzq7lBM"
      }
    },
    {
      "cell_type": "code",
      "source": [
        "q10 = \"\"\"SELECT title FROM Movie WHERE rating > 9.5 AND num_votes > 90;\"\"\""
      ],
      "metadata": {
        "id": "DUCNjcQM3VG-"
      },
      "execution_count": 14,
      "outputs": []
    },
    {
      "cell_type": "code",
      "source": [
        "def q10_grader(q10):\n",
        "  result = pd.read_sql_query(q10, conn)\n",
        "  return result[\"title\"][0]==\"Man on Mission Fauladi\"\n",
        "print(q10_grader(q10))"
      ],
      "metadata": {
        "id": "njqsiZo-3e6o",
        "colab": {
          "base_uri": "https://localhost:8080/"
        },
        "outputId": "9a26e59e-2474-4da6-961f-95e6a6200d4f"
      },
      "execution_count": 15,
      "outputs": [
        {
          "output_type": "stream",
          "name": "stdout",
          "text": [
            "True\n"
          ]
        }
      ]
    },
    {
      "cell_type": "markdown",
      "source": [
        "## 11. Write SQL query to find the number of movies which has the word 'Dilwale' in their title"
      ],
      "metadata": {
        "id": "7Ov94gw_949N"
      }
    },
    {
      "cell_type": "code",
      "source": [
        "q11 = \"\"\"SELECT COUNT(*) AS total_movies FROM Movie WHERE title LIKE '%Dilwale%';\"\"\""
      ],
      "metadata": {
        "id": "9T5y3B1z8H4v"
      },
      "execution_count": 16,
      "outputs": []
    },
    {
      "cell_type": "code",
      "source": [
        "def q11_grader(q11):\n",
        "  result = pd.read_sql_query(q11, conn)\n",
        "  return result.iloc[0, 0] == 4\n",
        "print(q11_grader(q11))"
      ],
      "metadata": {
        "colab": {
          "base_uri": "https://localhost:8080/"
        },
        "id": "gvtXmjaz8lfg",
        "outputId": "e8d28028-f43b-4a8d-f017-98da85783f59"
      },
      "execution_count": 17,
      "outputs": [
        {
          "output_type": "stream",
          "name": "stdout",
          "text": [
            "True\n"
          ]
        }
      ]
    },
    {
      "cell_type": "markdown",
      "source": [
        "## 12. Write nested SQL query to find the CID of country which produced most number of movies"
      ],
      "metadata": {
        "id": "5PaMaYb6AwgQ"
      }
    },
    {
      "cell_type": "code",
      "source": [
        "q12 = \"\"\"SELECT CID FROM (SELECT CID, COUNT(*) AS movie_count FROM M_Country GROUP BY CID ORDER BY movie_count DESC LIMIT 1);\"\"\""
      ],
      "metadata": {
        "id": "Ey1GZDoG-t2n"
      },
      "execution_count": 18,
      "outputs": []
    },
    {
      "cell_type": "code",
      "source": [
        "def q12_grader(q12):\n",
        "  result = pd.read_sql_query(q12, conn)\n",
        "  return result.iloc[0]==2.0\n",
        "print(q12_grader(q12))"
      ],
      "metadata": {
        "id": "5gHU4XQO-0E-",
        "colab": {
          "base_uri": "https://localhost:8080/"
        },
        "outputId": "102b11e4-8355-49d3-81b8-7a3dcb80e708"
      },
      "execution_count": 19,
      "outputs": [
        {
          "output_type": "stream",
          "name": "stdout",
          "text": [
            "CID    True\n",
            "Name: 0, dtype: bool\n"
          ]
        }
      ]
    },
    {
      "cell_type": "markdown",
      "source": [
        "## 13. Write nested SQL query to the country which produced most number of movies (use both Courty table and M_Country table)"
      ],
      "metadata": {
        "id": "F0E3Nw4nD7ux"
      }
    },
    {
      "cell_type": "code",
      "source": [
        "q13 = \"\"\"select Name from country where CID = (select CID from M_country group by MID order by count(*) desc limit 1)\"\"\""
      ],
      "metadata": {
        "id": "kJaN-L9aBY4Q"
      },
      "execution_count": 20,
      "outputs": []
    },
    {
      "cell_type": "code",
      "source": [
        "def q13_grader(q13):\n",
        "  result = pd.read_sql_query(q13, conn)\n",
        "  return result.iloc[0, 0] == \"India\"\n",
        "print(q13_grader(q13))"
      ],
      "metadata": {
        "id": "L8JOMcpjBqZo",
        "colab": {
          "base_uri": "https://localhost:8080/"
        },
        "outputId": "2d950c52-f418-4ef4-b1af-7de61707ad29"
      },
      "execution_count": 21,
      "outputs": [
        {
          "output_type": "stream",
          "name": "stdout",
          "text": [
            "True\n"
          ]
        }
      ]
    },
    {
      "cell_type": "markdown",
      "source": [
        "## 14. Write SQL query to get the year and number of movies per year having number of movies per year is greater than 100"
      ],
      "metadata": {
        "id": "OHcgp0uCF003"
      }
    },
    {
      "cell_type": "code",
      "source": [
        "q14 = \"\"\"select year, count(*) from Movie group by year having count(*)>100\"\"\""
      ],
      "metadata": {
        "id": "AmIL0LgMENl_"
      },
      "execution_count": 22,
      "outputs": []
    },
    {
      "cell_type": "code",
      "source": [
        "def q14_grader(q14):\n",
        "  result = pd.read_sql_query(q14, conn)\n",
        "  return result.shape==(13,2)\n",
        "print(q14_grader(q14))"
      ],
      "metadata": {
        "id": "RWWaEwJtE6Uj",
        "colab": {
          "base_uri": "https://localhost:8080/"
        },
        "outputId": "449978b8-a84c-4ee2-ef02-ddd48871be7d"
      },
      "execution_count": 23,
      "outputs": [
        {
          "output_type": "stream",
          "name": "stdout",
          "text": [
            "True\n"
          ]
        }
      ]
    },
    {
      "cell_type": "markdown",
      "source": [
        "## 15. Write SQL query to get the Name and Language ID (LAID) corresponding to Malayalam language"
      ],
      "metadata": {
        "id": "LcrzqodqG-Ae"
      }
    },
    {
      "cell_type": "code",
      "source": [
        "q15 = \"\"\"select Name,LAID from Language where Name = 'Malayalam' \"\"\""
      ],
      "metadata": {
        "id": "mZ7EH8emGXJg"
      },
      "execution_count": 24,
      "outputs": []
    },
    {
      "cell_type": "code",
      "source": [
        "def q15_grader(q15):\n",
        "  result = pd.read_sql_query(q15, conn)\n",
        "  print(result)\n",
        "  return result[[\"Name\", \"LAID\"]].values.tolist() == [['Malayalam', 19]]\n",
        "print(q15_grader(q15))"
      ],
      "metadata": {
        "id": "rVRZJXwoGcdX",
        "colab": {
          "base_uri": "https://localhost:8080/"
        },
        "outputId": "e5bad7f0-77f4-4ab6-b938-34f938e49d41"
      },
      "execution_count": 25,
      "outputs": [
        {
          "output_type": "stream",
          "name": "stdout",
          "text": [
            "        Name  LAID\n",
            "0  Malayalam    19\n",
            "True\n"
          ]
        }
      ]
    },
    {
      "cell_type": "markdown",
      "source": [
        "## 16. Write SQL query to do inner join with movie table and M_Language table with MID colums"
      ],
      "metadata": {
        "id": "DvPnI7MDJVoT"
      }
    },
    {
      "cell_type": "code",
      "source": [
        "q16 = \"\"\"select title,year,LAID from Movie inner join M_language on Movie.MID = M_language.MID\"\"\""
      ],
      "metadata": {
        "id": "ZPO83_w1Hxco"
      },
      "execution_count": 26,
      "outputs": []
    },
    {
      "cell_type": "code",
      "source": [
        "def q16_grader(q16):\n",
        "  result = pd.read_sql_query(q16, conn)\n",
        "  return result\n",
        "print(q16_grader(q16))"
      ],
      "metadata": {
        "id": "S89KrFeQIWuv",
        "colab": {
          "base_uri": "https://localhost:8080/"
        },
        "outputId": "3814b93e-a62d-4e58-f01e-aafa07151f7a"
      },
      "execution_count": 27,
      "outputs": [
        {
          "output_type": "stream",
          "name": "stdout",
          "text": [
            "              title  year  LAID\n",
            "0            Mowgli  2018     0\n",
            "1     Ocean's Eight  2018     0\n",
            "2       Tomb Raider  2018     0\n",
            "3      The Avengers  2012     0\n",
            "4           Tumbbad  2018     1\n",
            "...             ...   ...   ...\n",
            "3468    Allah-Rakha  1986     2\n",
            "3469          Anari  1993     2\n",
            "3470  Come December  2006     2\n",
            "3471     Kala Jigar  1939     2\n",
            "3472         Kanoon  1994     2\n",
            "\n",
            "[3473 rows x 3 columns]\n"
          ]
        }
      ]
    },
    {
      "cell_type": "markdown",
      "source": [
        "## 17. Write SQL query to list title, year and rating of malayalam movies in the database by doing an inner join with movie table and M_Language table with MID column, also assuming language ID of malayalam movies as 19"
      ],
      "metadata": {
        "id": "vhF0SQu5Lthd"
      }
    },
    {
      "cell_type": "code",
      "source": [
        "q17 = \"\"\"select title, year,rating from Movie inner join M_language on Movie.MID = M_language.MID where M_language.LAID = 19 \"\"\""
      ],
      "metadata": {
        "id": "yHB7KI-wKw3p"
      },
      "execution_count": 28,
      "outputs": []
    },
    {
      "cell_type": "code",
      "source": [
        "def q17_grader(q17):\n",
        "  result = pd.read_sql_query(q17, conn)\n",
        "  return result.shape==(16,3)\n",
        "print(q17_grader(q17))"
      ],
      "metadata": {
        "id": "Ji5W5cemLX0a",
        "colab": {
          "base_uri": "https://localhost:8080/"
        },
        "outputId": "535f9f31-c73e-47d4-9ff7-c639bbad634d"
      },
      "execution_count": 29,
      "outputs": [
        {
          "output_type": "stream",
          "name": "stdout",
          "text": [
            "True\n"
          ]
        }
      ]
    },
    {
      "cell_type": "code",
      "source": [
        "![ -f academic.db ] && rm academic.db\n",
        "\n",
        "conn = sqlite3.connect(\"academic.db\")\n",
        "cursor = conn.cursor()"
      ],
      "metadata": {
        "id": "GhjTNuPwqO7z"
      },
      "execution_count": 30,
      "outputs": []
    },
    {
      "cell_type": "markdown",
      "source": [
        "## 18. Write SQL query to Create a table named students with two columns id (integer type) and name (varchar type)"
      ],
      "metadata": {
        "id": "aH8Y1PS9OZyj"
      }
    },
    {
      "cell_type": "code",
      "source": [
        "q18a = \"\"\"create table students(\n",
        "  id int AUTO_INCREMENT PRIMARY KEY,\n",
        "  name varchar(50)\n",
        ")\"\"\""
      ],
      "metadata": {
        "id": "TsaafyrxIYFd"
      },
      "execution_count": 31,
      "outputs": []
    },
    {
      "cell_type": "code",
      "source": [
        "def q18_grader_a(q18):\n",
        "  try:\n",
        "    cursor.execute(q18)\n",
        "    return True\n",
        "  except:\n",
        "    pass\n",
        "\n",
        "def q18_grader_b(q19):\n",
        "  result = pd.read_sql_query(q19, conn)\n",
        "  return result.columns.tolist() == ['id', 'name']\n",
        "\n",
        "q18b = \"\"\"SELECT * FROM students;\"\"\"\n",
        "\n",
        "print(q18_grader_a(q18a) and q18_grader_b(q18b))"
      ],
      "metadata": {
        "id": "whuIWdc4OAzm",
        "colab": {
          "base_uri": "https://localhost:8080/"
        },
        "outputId": "bd64b162-00a5-4dd2-9955-fd64e8ce5b80"
      },
      "execution_count": 32,
      "outputs": [
        {
          "output_type": "stream",
          "name": "stdout",
          "text": [
            "True\n"
          ]
        }
      ]
    },
    {
      "cell_type": "markdown",
      "source": [
        "## 19. Write SQL query to insert the values (1, 'Alice') into students table"
      ],
      "metadata": {
        "id": "-hRir0DKPa9I"
      }
    },
    {
      "cell_type": "code",
      "source": [
        "q19_a = \"\"\"insert into students (id, name) values(1,'Alice')\"\"\""
      ],
      "metadata": {
        "id": "4x6gmopqq6s2"
      },
      "execution_count": 33,
      "outputs": []
    },
    {
      "cell_type": "code",
      "source": [
        "def q19_grader_a(q19_a):\n",
        "  try:\n",
        "    cursor.execute(q19_a)\n",
        "  except:\n",
        "    pass\n",
        "  return True\n",
        "\n",
        "def q19_grader_b(q19_b):\n",
        "  result = pd.read_sql_query(q19_b, conn)\n",
        "  return result.values.tolist() == [[1, 'Alice']]\n",
        "\n",
        "q19_b = \"SELECT * FROM students\"\n",
        "print(q19_grader_a(q19_a) and q19_grader_b(q19_b))"
      ],
      "metadata": {
        "id": "Bwq8A_58qXS7",
        "colab": {
          "base_uri": "https://localhost:8080/"
        },
        "outputId": "69305777-67a2-4112-81b3-712464b8e403"
      },
      "execution_count": 34,
      "outputs": [
        {
          "output_type": "stream",
          "name": "stdout",
          "text": [
            "True\n"
          ]
        }
      ]
    },
    {
      "cell_type": "markdown",
      "source": [
        "## 20. Write SQL Query to add the following more information to students table\n",
        "\n",
        "| ID | Name    |\n",
        "|----|---------|\n",
        "| 2  | Bob     |\n",
        "| 3  | Charlie |"
      ],
      "metadata": {
        "id": "PuQ4VFtwSu6x"
      }
    },
    {
      "cell_type": "code",
      "source": [
        "q20 = \"\"\"insert into students (id,name) values (2,'Bob'),(3,'Charlie')\"\"\""
      ],
      "metadata": {
        "id": "mGQrZEhKqgMo"
      },
      "execution_count": 35,
      "outputs": []
    },
    {
      "cell_type": "code",
      "source": [
        "def q20_grader(q20):\n",
        "  try:\n",
        "    cursor.execute(q20)\n",
        "  except:\n",
        "    pass\n",
        "  return True\n",
        "\n",
        "def q20_grader_b(q20_b):\n",
        "  result = pd.read_sql_query(q20_b, conn)\n",
        "  return result.values.tolist() == [[1, 'Alice'], [2, 'Bob'], [3, 'Charlie']]\n",
        "\n",
        "print(q20_grader(q20) and q20_grader_b(q19_b))"
      ],
      "metadata": {
        "id": "FRZxVn3xTAjk",
        "colab": {
          "base_uri": "https://localhost:8080/"
        },
        "outputId": "a2ac3963-82f2-44e9-b6a3-e9c5bd10e740"
      },
      "execution_count": 36,
      "outputs": [
        {
          "output_type": "stream",
          "name": "stdout",
          "text": [
            "True\n"
          ]
        }
      ]
    },
    {
      "cell_type": "code",
      "source": [
        "# conn.close()"
      ],
      "metadata": {
        "id": "qYNpS7UEhKc4"
      },
      "execution_count": null,
      "outputs": []
    },
    {
      "cell_type": "code",
      "source": [],
      "metadata": {
        "id": "53tIpYUusRVC"
      },
      "execution_count": null,
      "outputs": []
    }
  ]
}