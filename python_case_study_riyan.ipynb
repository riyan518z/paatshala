{
  "nbformat": 4,
  "nbformat_minor": 0,
  "metadata": {
    "colab": {
      "provenance": [],
      "include_colab_link": true
    },
    "kernelspec": {
      "name": "python3",
      "display_name": "Python 3"
    },
    "language_info": {
      "name": "python"
    }
  },
  "cells": [
    {
      "cell_type": "markdown",
      "metadata": {
        "id": "view-in-github",
        "colab_type": "text"
      },
      "source": [
        "<a href=\"https://colab.research.google.com/github/riyan518z/paatshala/blob/main/python_case_study_riyan.ipynb\" target=\"_parent\"><img src=\"https://colab.research.google.com/assets/colab-badge.svg\" alt=\"Open In Colab\"/></a>"
      ]
    },
    {
      "cell_type": "markdown",
      "source": [
        "# Answer the following questions using only builtin Python datatypes and functions. Do not use Numpy or Scipy (i.e. No library imports allowed)"
      ],
      "metadata": {
        "id": "zVV_KMSIUG-A"
      }
    },
    {
      "cell_type": "markdown",
      "source": [
        "# Q1. Write a function that return the range (maximum and minimun) of a given list of numbers"
      ],
      "metadata": {
        "id": "uZnK7VgWV5SI"
      }
    },
    {
      "cell_type": "code",
      "source": [
        "data=[5,8,2,7,3,8,10]\n",
        "def min_max(data):\n",
        "  min_=data[0]\n",
        "  max_=data[0]\n",
        "  for i in data:\n",
        "    if i<min_:\n",
        "      min_=i\n",
        "    if i>max_:\n",
        "      max_=i\n",
        "  print(min_)\n",
        "  print(max_)\n",
        "min_max(data)"
      ],
      "metadata": {
        "id": "vuAbJQcOWAM7",
        "colab": {
          "base_uri": "https://localhost:8080/"
        },
        "outputId": "d4a06d12-0261-493d-ee80-411fb3f5179c"
      },
      "execution_count": null,
      "outputs": [
        {
          "output_type": "stream",
          "name": "stdout",
          "text": [
            "2\n",
            "10\n"
          ]
        }
      ]
    },
    {
      "cell_type": "markdown",
      "source": [
        "## Q2. Write function that returns mean value of a list of numbers"
      ],
      "metadata": {
        "id": "Y5_v5a8_U1O-"
      }
    },
    {
      "cell_type": "code",
      "source": [
        "data = [5,8,2,7,3,8,10]\n",
        "mean = sum (data) / len (data)\n",
        "print(mean)"
      ],
      "metadata": {
        "id": "RajjEyacU7Sc",
        "colab": {
          "base_uri": "https://localhost:8080/"
        },
        "outputId": "59dbf875-f6a4-426e-cc11-80d5ff2f475a"
      },
      "execution_count": null,
      "outputs": [
        {
          "output_type": "stream",
          "name": "stdout",
          "text": [
            "6.142857142857143\n"
          ]
        }
      ]
    },
    {
      "cell_type": "markdown",
      "source": [
        "# Q3. Write a function that returns the median value of a list of numbers"
      ],
      "metadata": {
        "id": "OpeRxoEoVTIP"
      }
    },
    {
      "cell_type": "code",
      "source": [
        "data = [5,8,2,7,3,8,10]\n",
        "sort_data = sorted(data)\n",
        "print(sort_data)\n",
        "n = len(sort_data)\n",
        "if n % 2 == 1 :\n",
        "   median = sort_data[n//2]\n",
        "else :\n",
        " median = (sort_data[n//2 - 1] + sort_data[n//2])/2\n",
        "print (median)\n",
        "\n"
      ],
      "metadata": {
        "id": "u1CUy0UOVaQi",
        "colab": {
          "base_uri": "https://localhost:8080/"
        },
        "outputId": "fa8f372b-31a5-4236-85a1-c34eebac9eef"
      },
      "execution_count": null,
      "outputs": [
        {
          "output_type": "stream",
          "name": "stdout",
          "text": [
            "[2, 3, 5, 7, 8, 8, 10]\n",
            "7\n"
          ]
        }
      ]
    },
    {
      "cell_type": "markdown",
      "source": [
        "## Q4. Write a function to return the mod of a list of numbers, if no mod exists, it should return None. If more than one mod exist, return the mod values as list"
      ],
      "metadata": {
        "id": "2EMOG7AZSqVn"
      }
    },
    {
      "cell_type": "code",
      "execution_count": null,
      "metadata": {
        "id": "qnMm2dhhSk3-",
        "colab": {
          "base_uri": "https://localhost:8080/"
        },
        "outputId": "fbe3499f-fc86-4951-80cc-3b5c5b2f03a9"
      },
      "outputs": [
        {
          "output_type": "execute_result",
          "data": {
            "text/plain": [
              "[2]"
            ]
          },
          "metadata": {},
          "execution_count": 28
        }
      ],
      "source": [
        "def mode_function(data):\n",
        "  freq={}\n",
        "  for num in data:\n",
        "    if num in freq:\n",
        "      freq[num]+=1\n",
        "    else:\n",
        "      freq[num]=1\n",
        "  mode_list=[]\n",
        "  max_freq=1\n",
        "  for num,value in freq.items():\n",
        "    if value>max_freq:\n",
        "      max_freq=value\n",
        "      mode_list=[num]\n",
        "    elif value==max_freq:\n",
        "      mode_list.append(num)\n",
        "  if max_freq==1:\n",
        "    print(\"none\")\n",
        "  elif len(mode_list)==1:\n",
        "    return mode_list\n",
        "  elif len(mode_list)>1:\n",
        "    return mode_list\n",
        "data5=[2,5,6,7,8,9,2,9,2]\n",
        "mode_function(data5)\n"
      ]
    },
    {
      "cell_type": "markdown",
      "source": [
        "## Q5. Write function to compute a given percentile value (e.g. 90th percentile) of a list of numbers"
      ],
      "metadata": {
        "id": "LcqWwqtgTCiL"
      }
    },
    {
      "cell_type": "code",
      "source": [
        "def percentile(data,percent):\n",
        "  data.sort()\n",
        "  length=len(data)\n",
        "  index=length*percent\n",
        "  int_index=int(index)\n",
        "  perct=data[int_index]\n",
        "  print(perct)\n",
        "\n",
        "data6=[12,56,48,52,47,56,85,110,112]\n",
        "percentile(data6,.8)"
      ],
      "metadata": {
        "id": "Sn307h0TTb2b",
        "colab": {
          "base_uri": "https://localhost:8080/"
        },
        "outputId": "a2b73bfe-1677-4518-96e0-a12420bfeda7"
      },
      "execution_count": null,
      "outputs": [
        {
          "output_type": "stream",
          "name": "stdout",
          "text": [
            "110\n"
          ]
        }
      ]
    },
    {
      "cell_type": "markdown",
      "source": [
        "# Q6. Write a function that returns the lower bound of a list of numbers"
      ],
      "metadata": {
        "id": "N-TYHkDcWOfS"
      }
    },
    {
      "cell_type": "code",
      "source": [
        "n = [10, 5, 3, 8, 15]\n",
        "\n",
        "lb = n[0]\n",
        "\n",
        "for num in n:\n",
        "    if num < lb:\n",
        "        lb = num\n",
        "\n",
        "print(\"Lower bound (minimum value) is:\",lb)"
      ],
      "metadata": {
        "id": "Y-RKPdKuW5nx",
        "colab": {
          "base_uri": "https://localhost:8080/"
        },
        "outputId": "4ca76b21-28d1-4656-8542-cdf00a003407"
      },
      "execution_count": null,
      "outputs": [
        {
          "output_type": "stream",
          "name": "stdout",
          "text": [
            "Lower bound (minimum value) is: 3\n"
          ]
        }
      ]
    },
    {
      "cell_type": "markdown",
      "source": [
        "## Q7. Write function to return any outliers from a given list of numbers, if no outliers present it should return None"
      ],
      "metadata": {
        "id": "5aHfaI_jThpX"
      }
    },
    {
      "cell_type": "code",
      "source": [
        "def outlier(data):\n",
        "  data.sort()\n",
        "  length=len(data)\n",
        "\n",
        "  q1_index=length*.25\n",
        "  q3_index=length*.75\n",
        "\n",
        "  int_q1=int(q1_index)\n",
        "  int_q3=int(q3_index)\n",
        "\n",
        "  Q1=data[int_q1]\n",
        "  Q3=data[int_q3]\n",
        "\n",
        "  IQR=Q3-Q1\n",
        "\n",
        "\n",
        "  Lower_whisker=Q1-(IQR*1.5)\n",
        "\n",
        "  Upper_whisker=Q3+(IQR*1.5)\n",
        "\n",
        "  outlier=[]\n",
        "  for i in data :\n",
        "     if i< Lower_whisker or i> Upper_whisker:\n",
        "       outlier.append(i)\n",
        "\n",
        "  if len(outlier)>0:\n",
        "      return outlier\n",
        "  else:\n",
        "      return None\n",
        "\n",
        "data8=[45,85,56,47,123,145,59,220,256,500]\n",
        "print(outlier(data8))"
      ],
      "metadata": {
        "id": "gG6-qzT7T0Si",
        "colab": {
          "base_uri": "https://localhost:8080/"
        },
        "outputId": "77f3ea99-6514-4983-a20e-87c88cd425aa"
      },
      "execution_count": 5,
      "outputs": [
        {
          "output_type": "stream",
          "name": "stdout",
          "text": [
            "[500]\n"
          ]
        }
      ]
    },
    {
      "cell_type": "markdown",
      "source": [
        "##Q8. Write a function to return standard deviation of a list of numbers"
      ],
      "metadata": {
        "id": "jI9t-tcDT5EK"
      }
    },
    {
      "cell_type": "code",
      "source": [
        "def standard_deviation(data):\n",
        " mean=sum(data)/len(data)\n",
        "\n",
        " sum_of_sqaured_difference = 0\n",
        " for i in data:\n",
        "  sum_of_sqaured_difference+=((i-mean)**2)\n",
        "\n",
        " variance=sum_of_sqaured_difference/len(data)\n",
        " standard_dev=variance**.5\n",
        "\n",
        " return standard_dev\n",
        "\n",
        "\n",
        "data9=[45,85,56,47,123,145,59,220,256]\n",
        "print(standard_deviation(data9))"
      ],
      "metadata": {
        "id": "MMU_cMlLUFxJ",
        "colab": {
          "base_uri": "https://localhost:8080/"
        },
        "outputId": "da4e72b4-fb2c-4e7c-d1c5-52cd4b48b1a9"
      },
      "execution_count": 3,
      "outputs": [
        {
          "output_type": "stream",
          "name": "stdout",
          "text": [
            "73.71935437777886\n"
          ]
        }
      ]
    },
    {
      "cell_type": "markdown",
      "source": [
        "## Q9. Write function to compute and return Z-score values of a list of numbers"
      ],
      "metadata": {
        "id": "LufmQDJPURkM"
      }
    },
    {
      "cell_type": "code",
      "source": [
        "def Z_score(data):\n",
        " mean=sum(data)/len(data)\n",
        "\n",
        " sum_of_difference = 0\n",
        " for i in data:\n",
        "  sum_of_difference+=((i-mean))\n",
        "\n",
        " variance=sum_of_difference/len(data)\n",
        " standard_dev=variance**.5\n",
        "\n",
        " z_score=[]\n",
        " for x in data:\n",
        "    z=(x-mean)/standard_dev\n",
        "    z_score.append(z)\n",
        " return z_score\n",
        "\n",
        "data10=[45,85,56,47,123,145,59,220,256,45]\n",
        "Z_score(data10)\n"
      ],
      "metadata": {
        "id": "ml2qpSpFUYxV",
        "colab": {
          "base_uri": "https://localhost:8080/"
        },
        "outputId": "d67807eb-b27c-4ee1-aa70-b05c28a010aa"
      },
      "execution_count": 4,
      "outputs": [
        {
          "output_type": "execute_result",
          "data": {
            "text/plain": [
              "[-836930247.2506725,\n",
              " -306388093.6844775,\n",
              " -691031155.0199689,\n",
              " -810403139.5723627,\n",
              " 197626952.2034077,\n",
              " 489425136.6648149,\n",
              " -651240493.5025042,\n",
              " 1484191674.6014304,\n",
              " 1961679612.8110058,\n",
              " -836930247.2506725]"
            ]
          },
          "metadata": {},
          "execution_count": 4
        }
      ]
    },
    {
      "cell_type": "markdown",
      "source": [
        "## Q10. Write a function to compute and return the Pearson correlation coefficient value of two list of numbers"
      ],
      "metadata": {
        "id": "YQSNHIfxUb6s"
      }
    },
    {
      "cell_type": "code",
      "source": [
        "def calculate_mean(data):\n",
        "\n",
        "    return sum(data) / len(data)\n",
        "\n",
        "def calculate_standard_deviation(data):\n",
        "    mean = calculate_mean(data)\n",
        "    sum_of_squared_differences = sum([(x - mean) ** 2 for x in data])\n",
        "    variance = sum_of_squared_differences / (len(data) - 1)\n",
        "    return (variance)**.5\n",
        "\n",
        "def pearson_correlation(list_x, list_y):\n",
        "\n",
        "    mean_x = calculate_mean(list_x)\n",
        "    mean_y = calculate_mean(list_y)\n",
        "\n",
        "    std_dev_x = calculate_standard_deviation(list_x)\n",
        "    std_dev_y = calculate_standard_deviation(list_y)\n",
        "\n",
        "\n",
        "    numerator = sum([(x - mean_x) * (y - mean_y) for x, y in zip(list_x, list_y)])\n",
        "\n",
        "\n",
        "    denominator = (len(list_x) - 1) * std_dev_x * std_dev_y\n",
        "\n",
        "\n",
        "    correlation = numerator / denominator\n",
        "\n",
        "    return correlation\n",
        "\n",
        "\n",
        "x1 = [1, 2, 3, 4, 5]\n",
        "y1 = [2, 4, 5, 4, 6]\n",
        "corr1 = pearson_correlation(x1, y1)\n",
        "print(f\"Lists X: {x1}\")\n",
        "print(f\"Lists Y: {y1}\")\n",
        "print(f\"Correlation: {corr1:.2f}\")"
      ],
      "metadata": {
        "id": "1YGqr3T6Uk6H",
        "colab": {
          "base_uri": "https://localhost:8080/"
        },
        "outputId": "5c0352b2-df5b-4d5c-f5c6-fc5aa71be8d5"
      },
      "execution_count": 2,
      "outputs": [
        {
          "output_type": "stream",
          "name": "stdout",
          "text": [
            "Lists X: [1, 2, 3, 4, 5]\n",
            "Lists Y: [2, 4, 5, 4, 6]\n",
            "Correlation: 0.85\n"
          ]
        }
      ]
    }
  ]
}