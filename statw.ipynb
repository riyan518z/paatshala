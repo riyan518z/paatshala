{
  "nbformat": 4,
  "nbformat_minor": 0,
  "metadata": {
    "colab": {
      "provenance": [],
      "authorship_tag": "ABX9TyPjYrZ+jqiNaoWrcsrenpcT",
      "include_colab_link": true
    },
    "kernelspec": {
      "name": "python3",
      "display_name": "Python 3"
    },
    "language_info": {
      "name": "python"
    }
  },
  "cells": [
    {
      "cell_type": "markdown",
      "metadata": {
        "id": "view-in-github",
        "colab_type": "text"
      },
      "source": [
        "<a href=\"https://colab.research.google.com/github/riyan518z/paatshala/blob/main/statw.ipynb\" target=\"_parent\"><img src=\"https://colab.research.google.com/assets/colab-badge.svg\" alt=\"Open In Colab\"/></a>"
      ]
    },
    {
      "cell_type": "code",
      "source": [
        "\n",
        "#1 Dataset: Monthly temperatures in a city (in °C): 12, 15, 14, 16, 18, 20, 22, 19,17, 15, 13, 10 Questions:\n",
        "temps = [12, 15, 14, 16, 18, 20, 22, 19, 17, 15, 13, 10]\n",
        "\n",
        "mean_temp = sum(temps) / len(temps)\n",
        "\n",
        "sorted_temps = sorted(temps)\n",
        "n = len(sorted_temps)\n",
        "if n % 2 == 0:\n",
        "    median_temp = (sorted_temps[n//2 - 1] + sorted_temps[n//2]) / 2\n",
        "else:\n",
        "    median_temp = sorted_temps[n//2]\n",
        "\n",
        "modes = [x for x in set(temps) if temps.count(x) == max([temps.count(i) for i in temps])]\n",
        "if len(modes) == len(set(temps)):\n",
        "    mode_temp = None\n",
        "else:\n",
        "    mode_temp = modes\n",
        "\n",
        "range_temp = max(temps) - min(temps)\n",
        "\n",
        "mean_val = mean_temp\n",
        "variance_temp = sum((x - mean_val) ** 2 for x in temps) / len(temps)\n",
        "\n",
        "print(\"Mean:\", mean_temp)\n",
        "print(\"Median:\", median_temp)\n",
        "print(\"Mode:\", mode_temp)\n",
        "print(\"Range:\", range_temp)\n",
        "print(\"Variance:\", variance_temp)"
      ],
      "metadata": {
        "colab": {
          "base_uri": "https://localhost:8080/"
        },
        "id": "JD33JMmLjDd5",
        "outputId": "c79f0800-3f07-4f81-ef5e-d11f00a450c6"
      },
      "execution_count": null,
      "outputs": [
        {
          "output_type": "stream",
          "name": "stdout",
          "text": [
            "Mean: 15.916666666666666\n",
            "Median: 15.5\n",
            "Mode: [15]\n",
            "Range: 12\n",
            "Variance: 11.076388888888888\n"
          ]
        }
      ]
    },
    {
      "cell_type": "code",
      "source": [
        "#2 Heights of students (in cm): 150, 160, 165, 170, 155, 160, 162, 168 Questions: a) Calculate the range of the heights.\n",
        "\n",
        "val = [150, 160, 165, 170, 155, 160, 162, 168]\n",
        "mean_val = sum(val) / len(val)\n",
        "range_val = max(val) - min(val)\n",
        "mean_value = mean_val\n",
        "variance_val = sum((x - mean_value) ** 2 for x in val) / len(val)\n",
        "if variance_val >= 0 :\n",
        "  std = variance_val ** 0.5\n",
        "else :\n",
        "    std = None\n",
        "print(\"Range:\", range_val)\n",
        "print(\"Variance:\", variance_val)\n",
        "print(\"std\", std)\n"
      ],
      "metadata": {
        "colab": {
          "base_uri": "https://localhost:8080/"
        },
        "id": "Vxo951gCmatu",
        "outputId": "b8afe438-8830-494c-d659-714fe67d72b2"
      },
      "execution_count": null,
      "outputs": [
        {
          "output_type": "stream",
          "name": "stdout",
          "text": [
            "Range: 20\n",
            "Variance: 38.1875\n",
            "std 6.179603547154137\n"
          ]
        }
      ]
    },
    {
      "cell_type": "code",
      "source": [
        "#3 Weekly expenses (in $): 200, 250, 300, 220, 270, 290, 310 Questions: a) Calculate the standard deviation of the weekly expenses.\n",
        "exp = [200, 250, 300, 220, 270, 290, 310]\n",
        "mean_exp = sum(exp) / len(exp)\n",
        "variance_exp = sum((x - mean_exp) ** 2 for x in exp) / len(exp)\n",
        "if variance_exp >= 0 :\n",
        "  std = variance_exp ** 0.5\n",
        "else :\n",
        "    std = None\n",
        "\n",
        "print(\"std\", std)\n",
        "\n",
        "\n"
      ],
      "metadata": {
        "colab": {
          "base_uri": "https://localhost:8080/"
        },
        "id": "Aen21yBho5VM",
        "outputId": "07436a60-b306-41eb-f4a1-eac3821474d2"
      },
      "execution_count": null,
      "outputs": [
        {
          "output_type": "stream",
          "name": "stdout",
          "text": [
            "std 38.438925848782034\n"
          ]
        }
      ]
    },
    {
      "cell_type": "code",
      "source": [
        "#4 Advertising Spending (in $1000s): 10, 20, 15, 25, 30; Sales (in $1000s): 100, 150, 120, 180, 200 Questions: a) Calculate the covariance between advertising spending and sales.b) Correlation\n",
        "\n",
        "import numpy as np\n",
        "advertising = [10, 20, 15, 25, 30]\n",
        "sales = [100, 150, 120, 180, 200]\n",
        "\n",
        "cov_matrix = np.cov(advertising, sales, ddof=0)\n",
        "covariance = cov_matrix[0, 1]\n",
        "\n",
        "correlation = np.corrcoef(advertising, sales)[0, 1]\n",
        "\n",
        "print(\"Covariance:\", covariance)\n",
        "print(\"Correlation:\", correlation)\n",
        "\n"
      ],
      "metadata": {
        "colab": {
          "base_uri": "https://localhost:8080/"
        },
        "id": "gOjWi3HrqT44",
        "outputId": "349bd260-ad0a-41c8-f415-fd9f081ed4ec"
      },
      "execution_count": null,
      "outputs": [
        {
          "output_type": "stream",
          "name": "stdout",
          "text": [
            "Covariance: 260.0\n",
            "Correlation: 0.9970544855015815\n"
          ]
        }
      ]
    },
    {
      "cell_type": "code",
      "source": [
        "#5 Study Hours: 2, 4, 6, 8, 10; Exam Scores: 55, 60, 65, 70, 75\n",
        "#Questions: a) Calculate the correlation coefficient between study hours and exam scores.\n",
        "#b) Interpret the result.\n",
        "#c) Quartiles and IQR\n",
        "import numpy as np\n",
        "\n",
        "hours = [2, 4, 6, 8, 10]\n",
        "scores = [55, 60, 65, 70, 75]\n",
        "\n",
        "corr_matrix = np.corrcoef(hours, scores)\n",
        "corr = corr_matrix[0][1]\n",
        "\n",
        "quartiles = np.percentile(scores, [25, 50, 75])\n",
        "iqr = quartiles[2] - quartiles[0]\n",
        "\n",
        "print(\"Correlation Coefficient:\", corr)\n",
        "print(\"Quartiles:\", quartiles)\n",
        "print(\"IQR:\", iqr)\n"
      ],
      "metadata": {
        "colab": {
          "base_uri": "https://localhost:8080/"
        },
        "id": "61_n0vwbwT3N",
        "outputId": "d935dc21-8f23-48fc-ab58-5ef55948c40b"
      },
      "execution_count": null,
      "outputs": [
        {
          "output_type": "stream",
          "name": "stdout",
          "text": [
            "Correlation Coefficient: 1.0\n",
            "Quartiles: [60. 65. 70.]\n",
            "IQR: 10.0\n"
          ]
        }
      ]
    },
    {
      "cell_type": "code",
      "source": [
        "#6. Dataset: Monthly savings (in $): 200, 300, 400, 500, 600, 700, 800, 900, 1000,1100 Questions:\n",
        "#a) Calculate the first quartile (Q1) and third quartile (Q3).\n",
        "#b) Calculate the interquartile range (IQR).\n",
        "#c) Detecting Outliers\n",
        "import numpy as np\n",
        "\n",
        "savings = [200,300,400,500,600,700,800,900,1000,1100]\n",
        "q1 = np.percentile(savings,25)\n",
        "q3 = np.percentile(savings,75)\n",
        "iqr = q3-q1\n",
        "lower = q1-1.5*iqr\n",
        "upper = q3+1.5*iqr\n",
        "outliers = [x for x in savings if x<lower or x>upper]\n",
        "print(\"Q1:\",q1,\"Q3:\",q3,\"IQR:\",iqr,\"Outliers:\",outliers)\n"
      ],
      "metadata": {
        "colab": {
          "base_uri": "https://localhost:8080/"
        },
        "id": "v2MuX-9UzfXN",
        "outputId": "383f3dfc-cfae-4294-807b-a1ce6b019ea6"
      },
      "execution_count": null,
      "outputs": [
        {
          "output_type": "stream",
          "name": "stdout",
          "text": [
            "Q1: 425.0 Q3: 875.0 IQR: 450.0 Outliers: []\n"
          ]
        }
      ]
    },
    {
      "cell_type": "code",
      "source": [
        "#7\n",
        "ages = [22,25,28,30,35,40,45,50,55,100]\n",
        "q1 = np.percentile(ages,25)\n",
        "q3 = np.percentile(ages,75)\n",
        "iqr = q3-q1\n",
        "lower = q1-1.5*iqr\n",
        "upper = q3+1.5*iqr\n",
        "outliers = [x for x in ages if x<lower or x>upper]\n",
        "print(\"Outliers in Ages:\",outliers)"
      ],
      "metadata": {
        "colab": {
          "base_uri": "https://localhost:8080/"
        },
        "id": "lDoamChr3beG",
        "outputId": "2e988583-db57-4484-cd8a-2a803c68d753"
      },
      "execution_count": null,
      "outputs": [
        {
          "output_type": "stream",
          "name": "stdout",
          "text": [
            "Outliers in Ages: [100]\n"
          ]
        }
      ]
    },
    {
      "cell_type": "code",
      "source": [
        "#8\n",
        "from scipy import stats\n",
        "\n",
        "prod_a = [50, 55, 60]\n",
        "prod_b = [30, 25, 35]\n",
        "prod_c = [20, 20, 25]\n",
        "\n",
        "chi2_stat, p_value, dof, expected = stats.chi2_contingency([prod_a, prod_b, prod_c])\n",
        "print(f\"Chi-square statistic: {chi2_stat:.3f}\")\n",
        "print(f\"P-value: {p_value:.3f}\")\n",
        "print(f\"Degrees of freedom: {dof}\")\n",
        "print(\"Expected frequencies table:\")"
      ],
      "metadata": {
        "colab": {
          "base_uri": "https://localhost:8080/"
        },
        "id": "3i1gX5C6V2op",
        "outputId": "c4a3d081-16e9-410b-c498-0ad7f8a06134"
      },
      "execution_count": null,
      "outputs": [
        {
          "output_type": "stream",
          "name": "stdout",
          "text": [
            "Chi-square statistic: 0.877\n",
            "P-value: 0.928\n",
            "Degrees of freedom: 4\n",
            "Expected frequencies table:\n"
          ]
        }
      ]
    },
    {
      "cell_type": "code",
      "source": [
        "#9\n",
        "import numpy as np\n",
        "from scipy.stats import ttest_1samp, zscore\n",
        "\n",
        "def one_sample_ttest(data, mu0):\n",
        "    t_stat, p_value = ttest_1samp(data, mu0)\n",
        "    return t_stat, p_value\n",
        "\n",
        "def calculate_zscores(data):\n",
        "    return zscore(data)\n",
        "\n",
        "weights = [70, 68, 72, 71, 69, 73, 72, 74, 70, 71]\n",
        "\n",
        "t_stat, p_value = one_sample_ttest(weights, 70)\n",
        "\n",
        "print(\"T-statistic:\", t_stat)\n",
        "print(\"p-value:\", p_value)\n",
        "\n",
        "alpha = 0.05\n",
        "if p_value < alpha:\n",
        "    print(\"Reject Null Hypothesis: Mean is significantly different from 70.\")\n",
        "else:\n",
        "    print(\"Fail to Reject Null Hypothesis: Mean is not significantly different from 70.\")\n",
        "\n",
        "zscores = calculate_zscores(weights)\n",
        "print(\"Z-scores:\", zscores)"
      ],
      "metadata": {
        "id": "f8INXKQoL4Hh",
        "colab": {
          "base_uri": "https://localhost:8080/"
        },
        "outputId": "10e9ab2d-61ce-493c-8a53-04f4045469e2"
      },
      "execution_count": 8,
      "outputs": [
        {
          "output_type": "stream",
          "name": "stdout",
          "text": [
            "T-statistic: 1.732050807568877\n",
            "p-value: 0.11730680301423822\n",
            "Fail to Reject Null Hypothesis: Mean is not significantly different from 70.\n",
            "Z-scores: [-0.57735027 -1.73205081  0.57735027  0.         -1.15470054  1.15470054\n",
            "  0.57735027  1.73205081 -0.57735027  0.        ]\n"
          ]
        }
      ]
    },
    {
      "cell_type": "code",
      "source": [
        "#10\n",
        "import numpy as np\n",
        "\n",
        "salaries = np.array([40, 42, 45, 47, 50, 52, 55, 57, 60, 62])\n",
        "\n",
        "mean = np.mean(salaries)\n",
        "std_dev = np.std(salaries)\n",
        "\n",
        "print(f\"Mean: {mean:.2f}\")\n",
        "print(f\"Standard Deviation: {std_dev:.2f}\\n\")\n",
        "\n",
        "z_scores = (salaries - mean) / std_dev\n",
        "\n",
        "print(\"Z-scores for each salary:\")\n",
        "for sal, z in zip(salaries, z_scores):\n",
        "    print(f\"Salary {sal}k -> Z = {z:.2f}\")\n",
        "\n",
        "\n",
        "for sal, z in zip(salaries, z_scores):\n",
        "    if z < 0:\n",
        "        print(f\"{sal}k is {abs(z):.2f} standard deviations BELOW the mean.\")\n",
        "    elif z > 0:\n",
        "        print(f\"{sal}k is {z:.2f} standard deviations ABOVE the mean.\")\n",
        "    else:\n",
        "        print(f\"{sal}k is exactly at the mean.\")"
      ],
      "metadata": {
        "colab": {
          "base_uri": "https://localhost:8080/"
        },
        "id": "aEPJ-irYiAMq",
        "outputId": "ad593952-fd2c-4d71-bcb1-65ebb7db07d0"
      },
      "execution_count": 4,
      "outputs": [
        {
          "output_type": "stream",
          "name": "stdout",
          "text": [
            "Mean: 51.00\n",
            "Standard Deviation: 7.14\n",
            "\n",
            "Z-scores for each salary:\n",
            "Salary 40k -> Z = -1.54\n",
            "Salary 42k -> Z = -1.26\n",
            "Salary 45k -> Z = -0.84\n",
            "Salary 47k -> Z = -0.56\n",
            "Salary 50k -> Z = -0.14\n",
            "Salary 52k -> Z = 0.14\n",
            "Salary 55k -> Z = 0.56\n",
            "Salary 57k -> Z = 0.84\n",
            "Salary 60k -> Z = 1.26\n",
            "Salary 62k -> Z = 1.54\n",
            "40k is 1.54 standard deviations BELOW the mean.\n",
            "42k is 1.26 standard deviations BELOW the mean.\n",
            "45k is 0.84 standard deviations BELOW the mean.\n",
            "47k is 0.56 standard deviations BELOW the mean.\n",
            "50k is 0.14 standard deviations BELOW the mean.\n",
            "52k is 0.14 standard deviations ABOVE the mean.\n",
            "55k is 0.56 standard deviations ABOVE the mean.\n",
            "57k is 0.84 standard deviations ABOVE the mean.\n",
            "60k is 1.26 standard deviations ABOVE the mean.\n",
            "62k is 1.54 standard deviations ABOVE the mean.\n"
          ]
        }
      ]
    },
    {
      "cell_type": "code",
      "source": [],
      "metadata": {
        "id": "ZEKvF-1XiXUi"
      },
      "execution_count": null,
      "outputs": []
    }
  ]
}