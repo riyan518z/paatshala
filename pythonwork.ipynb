{
  "nbformat": 4,
  "nbformat_minor": 0,
  "metadata": {
    "colab": {
      "provenance": [],
      "authorship_tag": "ABX9TyPSlp5tqINw2b4qC5/w37UV",
      "include_colab_link": true
    },
    "kernelspec": {
      "name": "python3",
      "display_name": "Python 3"
    },
    "language_info": {
      "name": "python"
    }
  },
  "cells": [
    {
      "cell_type": "markdown",
      "metadata": {
        "id": "view-in-github",
        "colab_type": "text"
      },
      "source": [
        "<a href=\"https://colab.research.google.com/github/riyan518z/paatshala/blob/main/pythonwork.ipynb\" target=\"_parent\"><img src=\"https://colab.research.google.com/assets/colab-badge.svg\" alt=\"Open In Colab\"/></a>"
      ]
    },
    {
      "cell_type": "code",
      "execution_count": 16,
      "metadata": {
        "colab": {
          "base_uri": "https://localhost:8080/"
        },
        "id": "0Y-lDeh0hxv8",
        "outputId": "a0c677d9-cffc-46f9-81e7-709995534156"
      },
      "outputs": [
        {
          "output_type": "stream",
          "name": "stdout",
          "text": [
            "Enter item name and price. Type 'done' to finish.\n",
            "\n",
            "Enter item name (or type 'done' to finish): soap\n",
            "Enter price for soap: 200\n",
            "Enter item name (or type 'done' to finish): shampoo\n",
            "Enter price for shampoo: 800\n",
            "Enter item name (or type 'done' to finish): done\n",
            "You got a discount of 100.0\n",
            "Final Total Bill: 900.0\n"
          ]
        }
      ],
      "source": [
        "#1\n",
        "\n",
        "total = 0.0\n",
        "\n",
        "print(\"Enter item name and price. Type 'done' to finish.\\n\")\n",
        "\n",
        "while True:\n",
        "    item = input(\"Enter item name (or type 'done' to finish): \")\n",
        "\n",
        "    if item.lower() == \"done\":\n",
        "        break\n",
        "\n",
        "    try:\n",
        "        price = float(input(f\"Enter price for {item}: \"))\n",
        "        total += price\n",
        "    except ValueError:\n",
        "        print(\"Invalid price! Please enter a number.\")\n",
        "\n",
        "if total > 500:\n",
        "    discount = total * 0.10\n",
        "    total =total - discount\n",
        "    print(f\"You got a discount of {discount:}\")\n",
        "\n",
        "print(f\"Final Total Bill: {total:}\")\n"
      ]
    },
    {
      "cell_type": "code",
      "source": [
        "#2\n",
        "marks = []\n",
        "sub1 = int(input(\"enter mark: \"))\n",
        "sub2 = int(input(\"enter mark: \"))\n",
        "sub3 = int(input(\"enter mark: \"))\n",
        "sub4 = int(input(\"enter mark: \"))\n",
        "sub5 = int(input(\"enter mark: \"))\n",
        "marks.append(sub1)\n",
        "marks.append(sub2)\n",
        "marks.append(sub3)\n",
        "marks.append(sub4)\n",
        "marks.append(sub5)\n",
        "print(marks)\n",
        "total = 0\n",
        "total = ( sub1 + sub2 + sub3 + sub4 + sub5 ) / 5\n",
        "print (total)\n",
        "if total >= 90 :\n",
        "  print (\"A\")\n",
        "elif total >= 75 :\n",
        "  print (\"B\")\n",
        "elif total >= 50 :\n",
        "  print (\"C\")\n",
        "else :\n",
        "    print (\"fail\")\n"
      ],
      "metadata": {
        "colab": {
          "base_uri": "https://localhost:8080/"
        },
        "id": "gM6uaxgco36k",
        "outputId": "e0e3842c-1d31-4ef2-85c5-9875bc7d6dd7"
      },
      "execution_count": 12,
      "outputs": [
        {
          "output_type": "stream",
          "name": "stdout",
          "text": [
            "enter mark: 70\n",
            "enter mark: 80\n",
            "enter mark: 40\n",
            "enter mark: 39\n",
            "enter mark: 20\n",
            "[70, 80, 40, 39, 20]\n",
            "49.8\n",
            "fail\n"
          ]
        }
      ]
    },
    {
      "cell_type": "code",
      "source": [
        "#3\n",
        "bal = 1000\n",
        "while True:\n",
        "    print(\"1. Deposit\")\n",
        "    print(\"2. Withdraw\")\n",
        "    print(\"3. Check Balance\")\n",
        "    print(\"4. Exit\")\n",
        "    choice = input(\"Enter your choice (1-4): \")\n",
        "    if choice == \"1\":\n",
        "        amount = int(input(\"Enter amount to deposit: \"))\n",
        "        bal = bal + amount\n",
        "        print ( bal)\n",
        "    elif choice == \"2\":\n",
        "      amount2 = int(input(\"Enter amount to Withdraw: \"))\n",
        "      if amount2 <= bal:\n",
        "          bal = bal - amount2\n",
        "          print(f\"{amount2} withdrawn successfully.\")\n",
        "      else:\n",
        "          print(\"Insufficient funds!\")\n",
        "    elif choice == \"3\":\n",
        "        print(f\"Your current balance is: {bal}\")\n",
        "\n",
        "    elif choice == \"4\":\n",
        "        print(\"Thank you for using the ATM. Goodbye!\")\n",
        "        break\n",
        "\n",
        "    else:\n",
        "        print(\"Invalid choice! Please select 1-4.\")\n",
        "\n"
      ],
      "metadata": {
        "colab": {
          "base_uri": "https://localhost:8080/"
        },
        "id": "2JQiopHzt8y5",
        "outputId": "a4b3dd6b-c2aa-4f6b-c98d-cd827d6fb9e6"
      },
      "execution_count": 29,
      "outputs": [
        {
          "output_type": "stream",
          "name": "stdout",
          "text": [
            "1. Deposit\n",
            "2. Withdraw\n",
            "3. Check Balance\n",
            "4. Exit\n",
            "Enter your choice (1-4): 2\n",
            "Enter amount to Withdraw: 1000\n",
            "1000 withdrawn successfully.\n",
            "1. Deposit\n",
            "2. Withdraw\n",
            "3. Check Balance\n",
            "4. Exit\n",
            "Enter your choice (1-4): 1\n",
            "Enter amount to deposit: 1000\n",
            "1000\n",
            "1. Deposit\n",
            "2. Withdraw\n",
            "3. Check Balance\n",
            "4. Exit\n",
            "Enter your choice (1-4): 3\n",
            "Your current balance is: 1000\n",
            "1. Deposit\n",
            "2. Withdraw\n",
            "3. Check Balance\n",
            "4. Exit\n",
            "Enter your choice (1-4): 4\n",
            "Thank you for using the ATM. Goodbye!\n"
          ]
        }
      ]
    },
    {
      "cell_type": "code",
      "source": [
        "#4\n",
        "scores = {}\n",
        "print(\"Enter 5 players and their scores:\\n\")\n",
        "\n",
        "for i in range(5):\n",
        "    name = input(f\"Enter player {i+1} name: \")\n",
        "    score = int(input(f\"Enter {name}'s score: \"))\n",
        "    scores[name] = score\n",
        "\n",
        "print(\"\\nPlayer Scores:\", scores)\n",
        "\n",
        "top_player = 0\n",
        "top_score = -1\n",
        "\n",
        "for player in scores:\n",
        "    if scores[player] > top_score:\n",
        "        top_score = scores[player]\n",
        "        top_player = player\n",
        "\n",
        "print(f\"Top Scorer: {top_player} with {top_score} runs\")\n",
        "\n",
        "\n",
        "player_name = input(\"Enter player name to update score: \")\n",
        "\n",
        "if player_name in scores:\n",
        "    new_score = int(input(f\"Enter new score for {player_name}: \"))\n",
        "    scores[player_name] = new_score\n",
        "    print(f\"{player_name}'s score updated successfully!\")\n",
        "else:\n",
        "    print(\"Player not found!\")\n",
        "\n",
        "\n",
        "print(\"Updated Scores:\", scores)\n",
        "\n"
      ],
      "metadata": {
        "colab": {
          "base_uri": "https://localhost:8080/"
        },
        "id": "bh1oqVbxzchi",
        "outputId": "463509ca-2faf-43c5-c4be-9c5b77370f8c"
      },
      "execution_count": 34,
      "outputs": [
        {
          "output_type": "stream",
          "name": "stdout",
          "text": [
            "Enter 5 players and their scores:\n",
            "\n",
            "Enter player 1 name: dhoni\n",
            "Enter dhoni's score: 8\n",
            "Enter player 2 name: kholi\n",
            "Enter kholi's score: 102\n",
            "Enter player 3 name: yuvi\n",
            "Enter yuvi's score: 90\n",
            "Enter player 4 name: rohit\n",
            "Enter rohit's score: 200\n",
            "Enter player 5 name: surya\n",
            "Enter surya's score: 60\n",
            "\n",
            "Player Scores: {'dhoni': 8, 'kholi': 102, 'yuvi': 90, 'rohit': 200, 'surya': 60}\n",
            "\n",
            "Top Scorer: rohit with 200 runs\n",
            "\n",
            "Enter player name to update score: dhoni\n",
            "Enter new score for dhoni: 0\n",
            "dhoni's score updated successfully!\n",
            "\n",
            "Updated Scores: {'dhoni': 0, 'kholi': 102, 'yuvi': 90, 'rohit': 200, 'surya': 60}\n"
          ]
        }
      ]
    },
    {
      "cell_type": "code",
      "source": [
        "#5\n",
        "\n",
        "menu = {\n",
        "    \"Pizza\": 200,\n",
        "    \"Burger\": 120,\n",
        "    \"Pasta\": 150,\n",
        "    \"Sandwich\": 100,\n",
        "    \"Coke\": 50\n",
        "}\n",
        "\n",
        "print(\"Menu:\")\n",
        "for item, price in menu.items():\n",
        "    print(f\"{item}: ₹{price}\")\n",
        "\n",
        "\n",
        "order_list = []\n",
        "total = 0.0\n",
        "\n",
        "print(\"\\nEnter items you want to order. Type 'done' when finished.\\n\")\n",
        "\n",
        "while True:\n",
        "    order = input(\"Enter item: \")\n",
        "\n",
        "    if order.lower() == \"done\":\n",
        "        break\n",
        "\n",
        "    if order in menu:\n",
        "        order_list.append(order)\n",
        "        total += menu[order]\n",
        "        print(f\"{order} added! Current total: ₹{total}\")\n",
        "    else:\n",
        "        print(\"Item not in menu! Please choose again.\")\n",
        "\n",
        "\n",
        "if \"Pizza\" in order_list:\n",
        "    total -= 50\n",
        "    print(\"\\nSpecial Offer: ₹50 off on Pizza!\")\n",
        "\n",
        "\n",
        "for item in order_list:\n",
        "    print(f\"{item}: ₹{menu[item]}\")\n",
        "print(f\"\\nTotal Amount: ₹{total}\")\n"
      ],
      "metadata": {
        "colab": {
          "base_uri": "https://localhost:8080/"
        },
        "id": "Nyz9TFh54pNC",
        "outputId": "4ff5e2da-1886-4131-cada-38161a7aa1bd"
      },
      "execution_count": 37,
      "outputs": [
        {
          "output_type": "stream",
          "name": "stdout",
          "text": [
            "Menu:\n",
            "Pizza: ₹200\n",
            "Burger: ₹120\n",
            "Pasta: ₹150\n",
            "Sandwich: ₹100\n",
            "Coke: ₹50\n",
            "\n",
            "Enter items you want to order. Type 'done' when finished.\n",
            "\n",
            "Enter item: Pizza\n",
            "Pizza added! Current total: ₹200.0\n",
            "Enter item: Coke\n",
            "Coke added! Current total: ₹250.0\n",
            "Enter item: done\n",
            "\n",
            "Special Offer: ₹50 off on Pizza!\n",
            "Pizza: ₹200\n",
            "Coke: ₹50\n",
            "\n",
            "Total Amount: ₹200.0\n"
          ]
        }
      ]
    },
    {
      "cell_type": "code",
      "source": [
        "#6\n",
        "celsius = int(input(\"Enter temperature in Celsius: \"))\n",
        "\n",
        "fahrenheit = (celsius * 9/5) + 32\n",
        "\n",
        "print(fahrenheit)"
      ],
      "metadata": {
        "colab": {
          "base_uri": "https://localhost:8080/"
        },
        "id": "BO93Cilk6KHz",
        "outputId": "2c99db8b-6ee1-4a0b-d956-5e17de9aaea2"
      },
      "execution_count": 40,
      "outputs": [
        {
          "output_type": "stream",
          "name": "stdout",
          "text": [
            "Enter temperature in Celsius: 40\n",
            "104.0\n"
          ]
        }
      ]
    },
    {
      "cell_type": "code",
      "source": [
        "#7\n",
        "def shopping():\n",
        "    cart = []\n",
        "    while True:\n",
        "        action = input(\"Add / Remove / View / Checkout: \").lower()\n",
        "        if action == \"add\":\n",
        "            item = input(\"Enter item to add: \")\n",
        "            cart.append(item)\n",
        "        elif action == \"remove\":\n",
        "            item = input(\"Enter item to remove: \")\n",
        "            if item in cart:\n",
        "                cart.remove(item)\n",
        "            else:\n",
        "                print(\"Item not in cart.\")\n",
        "        elif action == \"view\":\n",
        "            print(\"Cart:\", cart)\n",
        "        elif action == \"checkout\":\n",
        "            print(\"Final Cart:\", cart)\n",
        "            break\n",
        "        else:\n",
        "            print(\"Invalid action.\")\n",
        "shopping()\n"
      ],
      "metadata": {
        "colab": {
          "base_uri": "https://localhost:8080/"
        },
        "id": "6T7Aei-H7a3-",
        "outputId": "b368f4e9-1ae9-483d-f668-8f6c0b823a39"
      },
      "execution_count": 41,
      "outputs": [
        {
          "output_type": "stream",
          "name": "stdout",
          "text": [
            "Add / Remove / View / Checkout: add\n",
            "Enter item to add: soap\n",
            "Add / Remove / View / Checkout: add\n",
            "Enter item to add: soap\n",
            "Add / Remove / View / Checkout: add\n",
            "Enter item to add: shampoo\n",
            "Add / Remove / View / Checkout: Checkout\n",
            "Final Cart: ['soap', 'soap', 'shampoo']\n"
          ]
        }
      ]
    },
    {
      "cell_type": "code",
      "source": [
        "#8\n",
        "def attendance():\n",
        "    students = input(\"Enter student names separated by commas: \").split(\",\")\n",
        "    present = 0\n",
        "    absent = 0\n",
        "    for student in students:\n",
        "        status = input(f\"Mark attendance for {student.strip()} (P/A): \").upper()\n",
        "        if status == 'P':\n",
        "            present += 1\n",
        "        else:\n",
        "            absent += 1\n",
        "    print(f\"Present: {present}, Absent: {absent}\")\n",
        "attendance()\n"
      ],
      "metadata": {
        "colab": {
          "base_uri": "https://localhost:8080/"
        },
        "id": "ccsMICK78FZ-",
        "outputId": "f08e7073-bc12-476b-aef4-6cea937cd0ca"
      },
      "execution_count": 42,
      "outputs": [
        {
          "output_type": "stream",
          "name": "stdout",
          "text": [
            "Enter student names separated by commas: madhav,farhan,rahuman\n",
            "Mark attendance for madhav (P/A): P\n",
            "Mark attendance for farhan (P/A): P\n",
            "Mark attendance for rahuman (P/A): A\n",
            "Present: 2, Absent: 1\n"
          ]
        }
      ]
    },
    {
      "cell_type": "code",
      "source": [
        "#9\n",
        "def cinema():\n",
        "    total_seats = 50\n",
        "    ticket_price = 120\n",
        "\n",
        "    while total_seats > 0:\n",
        "        print(f\"\\nAvailable seats: {total_seats}\")\n",
        "        try:\n",
        "            tickets = int(input(\"How many tickets do you want to book? \"))\n",
        "\n",
        "            if tickets <= 0:\n",
        "                print(\"Please enter a number greater than 0.\")\n",
        "            elif tickets > total_seats:\n",
        "                print(f\"Only {total_seats} seats available. Cannot book {tickets} tickets.\")\n",
        "            else:\n",
        "                cost = tickets * ticket_price\n",
        "                total_seats -= tickets\n",
        "                print(f\"Booking confirmed for {tickets} tickets. Total cost: ₹{cost}\")\n",
        "                print(f\"Remaining seats: {total_seats}\")\n",
        "        except ValueError:\n",
        "            print(\"Invalid input. Please enter a valid number.\")\n",
        "\n",
        "    print(\"\\nAll tickets sold out. Booking closed.\")\n",
        "cinema()"
      ],
      "metadata": {
        "colab": {
          "base_uri": "https://localhost:8080/"
        },
        "id": "6wnT82AR9ZAr",
        "outputId": "64a1b8aa-9ee5-49e2-a99e-9fb19c278be5"
      },
      "execution_count": 44,
      "outputs": [
        {
          "output_type": "stream",
          "name": "stdout",
          "text": [
            "\n",
            "Available seats: 50\n",
            "How many tickets do you want to book? 10\n",
            "Booking confirmed for 10 tickets. Total cost: ₹1200\n",
            "Remaining seats: 40\n",
            "\n",
            "Available seats: 40\n",
            "How many tickets do you want to book? 30\n",
            "Booking confirmed for 30 tickets. Total cost: ₹3600\n",
            "Remaining seats: 10\n",
            "\n",
            "Available seats: 10\n",
            "How many tickets do you want to book? 10\n",
            "Booking confirmed for 10 tickets. Total cost: ₹1200\n",
            "Remaining seats: 0\n",
            "\n",
            "All tickets sold out. Booking closed.\n"
          ]
        }
      ]
    },
    {
      "cell_type": "code",
      "source": [
        "#10\n",
        "def loan():\n",
        "    salary = float(input(\"Enter your monthly salary: ₹\"))\n",
        "    credit_score = int(input(\"Enter your credit score: \"))\n",
        "    age = int(input(\"Enter your age: \"))\n",
        "\n",
        "    if salary >= 25000 and credit_score >= 650 and 21 <= age <= 60:\n",
        "        print(\"You are eligible for a loan.\")\n",
        "    else:\n",
        "        print(\"You are NOT eligible for a loan.\")\n",
        "loan()"
      ],
      "metadata": {
        "colab": {
          "base_uri": "https://localhost:8080/"
        },
        "id": "u44Oioy09t0x",
        "outputId": "0f3093c0-31d5-48d6-da15-379d59495033"
      },
      "execution_count": 46,
      "outputs": [
        {
          "output_type": "stream",
          "name": "stdout",
          "text": [
            "Enter your monthly salary: ₹20000\n",
            "Enter your credit score: 700\n",
            "Enter your age: 20\n",
            "You are NOT eligible for a loan.\n"
          ]
        }
      ]
    }
  ]
}